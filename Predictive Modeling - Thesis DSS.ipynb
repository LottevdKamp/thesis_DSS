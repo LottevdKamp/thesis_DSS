{
 "cells": [
  {
   "cell_type": "code",
   "execution_count": 138,
   "metadata": {},
   "outputs": [],
   "source": [
    "import pandas as pd \n",
    "import numpy as np \n",
    "from sklearn.model_selection import GridSearchCV\n", LeaveOneOut
    "from scipy.stats import reciprocal, uniform\n",
    "from sklearn import svm\n",
    "import seaborn as sn\n",
    "from sklearn.preprocessing import OneHotEncoder, MinMaxScaler\n",
    "from sklearn.svm import LinearSVC\n",
    "from sklearn.model_selection import train_test_split\n",
    "import matplotlib.pyplot as plt \n",
    "from sklearn.metrics import classification_report, confusion_matrix\n",
    "from sklearn.metrics import f1_score, accuracy_score, recall_score, precision_score\n",
    "%matplotlib inline"
   ]
  },
  {
   "cell_type": "code",
   "execution_count": null,
   "metadata": {},
   "outputs": [],
   "source": []
  },
  {
   "cell_type": "code",
   "execution_count": 126,
   "metadata": {},
   "outputs": [],
   "source": [
    "#load the final data file\n",
    "final = pd.read_csv(\"~/Documents/Lotte/M-Data science/Thesis/Data /df pitches/final_dataset.csv\", delimiter=\",\")"
   ]
  },
  {
   "cell_type": "code",
   "execution_count": 3,
   "metadata": {},
   "outputs": [
    {
     "data": {
      "text/html": [
       "<div>\n",
       "<style scoped>\n",
       "    .dataframe tbody tr th:only-of-type {\n",
       "        vertical-align: middle;\n",
       "    }\n",
       "\n",
       "    .dataframe tbody tr th {\n",
       "        vertical-align: top;\n",
       "    }\n",
       "\n",
       "    .dataframe thead th {\n",
       "        text-align: right;\n",
       "    }\n",
       "</style>\n",
       "<table border=\"1\" class=\"dataframe\">\n",
       "  <thead>\n",
       "    <tr style=\"text-align: right;\">\n",
       "      <th></th>\n",
       "      <th>N_row</th>\n",
       "      <th>N_Pitches</th>\n",
       "      <th>RR_AU01_P</th>\n",
       "      <th>RR_AU02_P</th>\n",
       "      <th>RR_AU04_P</th>\n",
       "      <th>RR_AU05_P</th>\n",
       "      <th>RR_AU06_P</th>\n",
       "      <th>RR_AU07_P</th>\n",
       "      <th>RR_AU09_P</th>\n",
       "      <th>RR_AU10_P</th>\n",
       "      <th>...</th>\n",
       "      <th>ex_nm</th>\n",
       "      <th>ex_np</th>\n",
       "      <th>ven_founded</th>\n",
       "      <th>years_ex</th>\n",
       "      <th>age</th>\n",
       "      <th>gender</th>\n",
       "      <th>ft_edu</th>\n",
       "      <th>ft_uni</th>\n",
       "      <th>native_en</th>\n",
       "      <th>probinv</th>\n",
       "    </tr>\n",
       "  </thead>\n",
       "  <tbody>\n",
       "    <tr>\n",
       "      <td>0</td>\n",
       "      <td>1</td>\n",
       "      <td>1</td>\n",
       "      <td>45.389791</td>\n",
       "      <td>52.343047</td>\n",
       "      <td>48.997849</td>\n",
       "      <td>61.241541</td>\n",
       "      <td>48.838647</td>\n",
       "      <td>47.762957</td>\n",
       "      <td>81.061608</td>\n",
       "      <td>51.444944</td>\n",
       "      <td>...</td>\n",
       "      <td>13</td>\n",
       "      <td>15</td>\n",
       "      <td>2</td>\n",
       "      <td>1.0</td>\n",
       "      <td>31</td>\n",
       "      <td>2</td>\n",
       "      <td>21.0</td>\n",
       "      <td>8.5</td>\n",
       "      <td>2</td>\n",
       "      <td>1</td>\n",
       "    </tr>\n",
       "    <tr>\n",
       "      <td>1</td>\n",
       "      <td>2</td>\n",
       "      <td>1</td>\n",
       "      <td>80.585957</td>\n",
       "      <td>73.746137</td>\n",
       "      <td>23.178564</td>\n",
       "      <td>77.249364</td>\n",
       "      <td>51.897516</td>\n",
       "      <td>51.197731</td>\n",
       "      <td>77.512224</td>\n",
       "      <td>49.612361</td>\n",
       "      <td>...</td>\n",
       "      <td>13</td>\n",
       "      <td>15</td>\n",
       "      <td>2</td>\n",
       "      <td>1.0</td>\n",
       "      <td>31</td>\n",
       "      <td>2</td>\n",
       "      <td>21.0</td>\n",
       "      <td>8.5</td>\n",
       "      <td>2</td>\n",
       "      <td>0</td>\n",
       "    </tr>\n",
       "    <tr>\n",
       "      <td>2</td>\n",
       "      <td>3</td>\n",
       "      <td>1</td>\n",
       "      <td>75.380403</td>\n",
       "      <td>47.935850</td>\n",
       "      <td>25.850577</td>\n",
       "      <td>76.460786</td>\n",
       "      <td>47.446118</td>\n",
       "      <td>43.471543</td>\n",
       "      <td>82.463524</td>\n",
       "      <td>51.611187</td>\n",
       "      <td>...</td>\n",
       "      <td>13</td>\n",
       "      <td>15</td>\n",
       "      <td>2</td>\n",
       "      <td>1.0</td>\n",
       "      <td>31</td>\n",
       "      <td>2</td>\n",
       "      <td>21.0</td>\n",
       "      <td>8.5</td>\n",
       "      <td>2</td>\n",
       "      <td>0</td>\n",
       "    </tr>\n",
       "    <tr>\n",
       "      <td>3</td>\n",
       "      <td>4</td>\n",
       "      <td>2</td>\n",
       "      <td>54.342301</td>\n",
       "      <td>55.755009</td>\n",
       "      <td>52.870063</td>\n",
       "      <td>49.337722</td>\n",
       "      <td>66.886663</td>\n",
       "      <td>53.032627</td>\n",
       "      <td>75.028620</td>\n",
       "      <td>73.465942</td>\n",
       "      <td>...</td>\n",
       "      <td>13</td>\n",
       "      <td>13</td>\n",
       "      <td>1</td>\n",
       "      <td>0.5</td>\n",
       "      <td>20</td>\n",
       "      <td>2</td>\n",
       "      <td>16.0</td>\n",
       "      <td>2.0</td>\n",
       "      <td>2</td>\n",
       "      <td>0</td>\n",
       "    </tr>\n",
       "    <tr>\n",
       "      <td>4</td>\n",
       "      <td>5</td>\n",
       "      <td>2</td>\n",
       "      <td>83.433314</td>\n",
       "      <td>77.732112</td>\n",
       "      <td>46.345163</td>\n",
       "      <td>72.741271</td>\n",
       "      <td>66.547796</td>\n",
       "      <td>78.315398</td>\n",
       "      <td>91.457069</td>\n",
       "      <td>69.036634</td>\n",
       "      <td>...</td>\n",
       "      <td>13</td>\n",
       "      <td>13</td>\n",
       "      <td>1</td>\n",
       "      <td>0.5</td>\n",
       "      <td>20</td>\n",
       "      <td>2</td>\n",
       "      <td>16.0</td>\n",
       "      <td>2.0</td>\n",
       "      <td>2</td>\n",
       "      <td>1</td>\n",
       "    </tr>\n",
       "  </tbody>\n",
       "</table>\n",
       "<p>5 rows × 30 columns</p>\n",
       "</div>"
      ],
      "text/plain": [
       "   N_row  N_Pitches  RR_AU01_P  RR_AU02_P  RR_AU04_P  RR_AU05_P  RR_AU06_P  \\\n",
       "0      1          1  45.389791  52.343047  48.997849  61.241541  48.838647   \n",
       "1      2          1  80.585957  73.746137  23.178564  77.249364  51.897516   \n",
       "2      3          1  75.380403  47.935850  25.850577  76.460786  47.446118   \n",
       "3      4          2  54.342301  55.755009  52.870063  49.337722  66.886663   \n",
       "4      5          2  83.433314  77.732112  46.345163  72.741271  66.547796   \n",
       "\n",
       "   RR_AU07_P  RR_AU09_P  RR_AU10_P  ...  ex_nm  ex_np  ven_founded  years_ex  \\\n",
       "0  47.762957  81.061608  51.444944  ...     13     15            2       1.0   \n",
       "1  51.197731  77.512224  49.612361  ...     13     15            2       1.0   \n",
       "2  43.471543  82.463524  51.611187  ...     13     15            2       1.0   \n",
       "3  53.032627  75.028620  73.465942  ...     13     13            1       0.5   \n",
       "4  78.315398  91.457069  69.036634  ...     13     13            1       0.5   \n",
       "\n",
       "   age  gender  ft_edu  ft_uni  native_en  probinv  \n",
       "0   31       2    21.0     8.5          2        1  \n",
       "1   31       2    21.0     8.5          2        0  \n",
       "2   31       2    21.0     8.5          2        0  \n",
       "3   20       2    16.0     2.0          2        0  \n",
       "4   20       2    16.0     2.0          2        1  \n",
       "\n",
       "[5 rows x 30 columns]"
      ]
     },
     "execution_count": 3,
     "metadata": {},
     "output_type": "execute_result"
    }
   ],
   "source": [
    "final.head()"
   ]
  },
  {
   "cell_type": "markdown",
   "metadata": {},
   "source": [
    "**** BASELINE MODEL 1 *** Linear SVM \n",
    "\n",
    "This baseline model is trained on just control variables and the dependent variables. The algorithm used to train this model is a linear Support Vector Machine. \n"
   ]
  },
  {
   "cell_type": "code",
   "execution_count": 193,
   "metadata": {},
   "outputs": [],
   "source": [
    "# create an X and Y dataset out of the final dataset:\n",
    "# X = control variables Y = investment decisions\n",
    "\n",
    "X = final[['ex_startup', 'ex_nm', 'ex_np', 'ven_founded', 'years_ex', 'age', 'gender', 'ft_edu', 'ft_uni', 'native_en']]\n",
    "Y = final['probinv']"
   ]
  },
  {
   "cell_type": "code",
   "execution_count": 194,
   "metadata": {},
   "outputs": [
    {
     "data": {
      "text/html": [
       "<div>\n",
       "<style scoped>\n",
       "    .dataframe tbody tr th:only-of-type {\n",
       "        vertical-align: middle;\n",
       "    }\n",
       "\n",
       "    .dataframe tbody tr th {\n",
       "        vertical-align: top;\n",
       "    }\n",
       "\n",
       "    .dataframe thead th {\n",
       "        text-align: right;\n",
       "    }\n",
       "</style>\n",
       "<table border=\"1\" class=\"dataframe\">\n",
       "  <thead>\n",
       "    <tr style=\"text-align: right;\">\n",
       "      <th></th>\n",
       "      <th>ex_startup</th>\n",
       "      <th>ex_nm</th>\n",
       "      <th>ex_np</th>\n",
       "      <th>ven_founded</th>\n",
       "      <th>years_ex</th>\n",
       "      <th>age</th>\n",
       "      <th>ft_edu</th>\n",
       "      <th>ft_uni</th>\n",
       "      <th>gender_1</th>\n",
       "      <th>gender_2</th>\n",
       "      <th>native_en_1</th>\n",
       "      <th>native_en_2</th>\n",
       "    </tr>\n",
       "  </thead>\n",
       "  <tbody>\n",
       "    <tr>\n",
       "      <td>0</td>\n",
       "      <td>15</td>\n",
       "      <td>13</td>\n",
       "      <td>15</td>\n",
       "      <td>2</td>\n",
       "      <td>1.0</td>\n",
       "      <td>31</td>\n",
       "      <td>21.0</td>\n",
       "      <td>8.5</td>\n",
       "      <td>0</td>\n",
       "      <td>1</td>\n",
       "      <td>0</td>\n",
       "      <td>1</td>\n",
       "    </tr>\n",
       "    <tr>\n",
       "      <td>1</td>\n",
       "      <td>15</td>\n",
       "      <td>13</td>\n",
       "      <td>15</td>\n",
       "      <td>2</td>\n",
       "      <td>1.0</td>\n",
       "      <td>31</td>\n",
       "      <td>21.0</td>\n",
       "      <td>8.5</td>\n",
       "      <td>0</td>\n",
       "      <td>1</td>\n",
       "      <td>0</td>\n",
       "      <td>1</td>\n",
       "    </tr>\n",
       "    <tr>\n",
       "      <td>2</td>\n",
       "      <td>15</td>\n",
       "      <td>13</td>\n",
       "      <td>15</td>\n",
       "      <td>2</td>\n",
       "      <td>1.0</td>\n",
       "      <td>31</td>\n",
       "      <td>21.0</td>\n",
       "      <td>8.5</td>\n",
       "      <td>0</td>\n",
       "      <td>1</td>\n",
       "      <td>0</td>\n",
       "      <td>1</td>\n",
       "    </tr>\n",
       "    <tr>\n",
       "      <td>3</td>\n",
       "      <td>13</td>\n",
       "      <td>13</td>\n",
       "      <td>13</td>\n",
       "      <td>1</td>\n",
       "      <td>0.5</td>\n",
       "      <td>20</td>\n",
       "      <td>16.0</td>\n",
       "      <td>2.0</td>\n",
       "      <td>0</td>\n",
       "      <td>1</td>\n",
       "      <td>0</td>\n",
       "      <td>1</td>\n",
       "    </tr>\n",
       "    <tr>\n",
       "      <td>4</td>\n",
       "      <td>13</td>\n",
       "      <td>13</td>\n",
       "      <td>13</td>\n",
       "      <td>1</td>\n",
       "      <td>0.5</td>\n",
       "      <td>20</td>\n",
       "      <td>16.0</td>\n",
       "      <td>2.0</td>\n",
       "      <td>0</td>\n",
       "      <td>1</td>\n",
       "      <td>0</td>\n",
       "      <td>1</td>\n",
       "    </tr>\n",
       "  </tbody>\n",
       "</table>\n",
       "</div>"
      ],
      "text/plain": [
       "   ex_startup  ex_nm  ex_np  ven_founded  years_ex  age  ft_edu  ft_uni  \\\n",
       "0          15     13     15            2       1.0   31    21.0     8.5   \n",
       "1          15     13     15            2       1.0   31    21.0     8.5   \n",
       "2          15     13     15            2       1.0   31    21.0     8.5   \n",
       "3          13     13     13            1       0.5   20    16.0     2.0   \n",
       "4          13     13     13            1       0.5   20    16.0     2.0   \n",
       "\n",
       "   gender_1  gender_2  native_en_1  native_en_2  \n",
       "0         0         1            0            1  \n",
       "1         0         1            0            1  \n",
       "2         0         1            0            1  \n",
       "3         0         1            0            1  \n",
       "4         0         1            0            1  "
      ]
     },
     "execution_count": 194,
     "metadata": {},
     "output_type": "execute_result"
    }
   ],
   "source": [
    "## apply one-hot encoding for the categorical varibales: \n",
    "\n",
    "X_1 = pd.get_dummies(X, columns= ['gender', 'native_en'])\n",
    "X_1.head()\n"
   ]
  },
  {
   "cell_type": "code",
   "execution_count": 195,
   "metadata": {},
   "outputs": [],
   "source": [
    "#Split data into training and test set: \n",
    "\n",
    "X_1 = np.asarray(X_1[['ex_startup', 'ex_nm', 'ex_np', 'ven_founded', 'years_ex', 'age', 'ft_edu', 'ft_uni', 'gender_1', 'gender_2', 'native_en_1', 'native_en_2']])\n",
    "Y_1 = np.asarray(final[\"probinv\"])\n",
    "\n",
    "x_train, x_test, y_train, y_test = train_test_split(X_1, Y_1, test_size = 0.3, random_state = 0, stratify= Y_1)"
   ]
  },
  {
   "cell_type": "code",
   "execution_count": 196,
   "metadata": {},
   "outputs": [],
   "source": [
    "# Scale the independent variables with a MinMaxScaler: \n",
    "\n",
    "scaler = MinMaxScaler()\n",
    "x_train = scaler.fit_transform(x_train)\n",
    "x_test = scaler.transform(x_test)"
   ]
  },
  {
   "cell_type": "code",
   "execution_count": null,
   "metadata": {
    "scrolled": false
   },
   "outputs": [],
   "source": [
    "# hyperparameter tuning\n",
    "\n",
    "#create list of possible values for C\n",
    "param_distributions = {\"C\": [0.001, 0.01, 0.1, 1,10]}\n",
    "\n",
    "#initiate the SVM classifier:\n",
    "svc = svm.SVC(kernel = 'linear', random_state = 0)\n",
    "\n",
    "#Initiate the model with each possible value for C:\n",
    "\n",
    "model1 = GridSearchCV(svc, param_distributions, cv=LeaveOneOut(), scoring= 'f1')\n",
    "\n",
    "# Fit each Model and pick the best one: \n",
    "\n",
    "model1.fit(x_train, y_train)\n",
    "\n"
   ]
  },
  {
   "cell_type": "code",
   "execution_count": 198,
   "metadata": {},
   "outputs": [
    {
     "name": "stdout",
     "output_type": "stream",
     "text": [
      "Best param is: {'C': 10}\n",
      "Best score is: 0.04\n"
     ]
    }
   ],
   "source": [
    "#Print the best scores and hyperparameter:\n",
    "\n",
    "print(\"Best param is:\", model1.best_params_)\n",
    "\n",
    "print(\"Best score is:\", model1.best_score_)"
   ]
  },
  {
   "cell_type": "code",
   "execution_count": 133,
   "metadata": {},
   "outputs": [],
   "source": [
    "model1 = svm.SVC(kernel = 'linear', random_state = 0, C = 10)"
   ]
  },
  {
   "cell_type": "code",
   "execution_count": 134,
   "metadata": {},
   "outputs": [
    {
     "data": {
      "text/plain": [
       "SVC(C=10, cache_size=200, class_weight=None, coef0=0.0,\n",
       "    decision_function_shape='ovr', degree=3, gamma='auto_deprecated',\n",
       "    kernel='linear', max_iter=-1, probability=False, random_state=0,\n",
       "    shrinking=True, tol=0.001, verbose=False)"
      ]
     },
     "execution_count": 134,
     "metadata": {},
     "output_type": "execute_result"
    }
   ],
   "source": [
    "model1.fit(x_train, y_train)"
   ]
  },
  {
   "cell_type": "code",
   "execution_count": 135,
   "metadata": {},
   "outputs": [
    {
     "data": {
      "text/plain": [
       "array([0, 0, 0, 0, 0, 1, 0, 0, 0, 0, 0, 0, 0, 0, 0, 0, 0, 0, 0, 0, 0, 0])"
      ]
     },
     "execution_count": 135,
     "metadata": {},
     "output_type": "execute_result"
    }
   ],
   "source": [
    "#Make the predictions: \n",
    "\n",
    "y_pred =  model1.predict(x_test)\n",
    "\n",
    "y_pred"
   ]
  },
  {
   "cell_type": "code",
   "execution_count": 136,
   "metadata": {},
   "outputs": [
    {
     "name": "stdout",
     "output_type": "stream",
     "text": [
      "[[14  0]\n",
      " [ 7  1]]\n"
     ]
    }
   ],
   "source": [
    "print(confusion_matrix(y_test,y_pred))"
   ]
  },
  {
   "cell_type": "code",
   "execution_count": 137,
   "metadata": {},
   "outputs": [
    {
     "name": "stdout",
     "output_type": "stream",
     "text": [
      "[[14  0]\n",
      " [ 7  1]]\n",
      "              precision    recall  f1-score   support\n",
      "\n",
      "           0       0.67      1.00      0.80        14\n",
      "           1       1.00      0.12      0.22         8\n",
      "\n",
      "    accuracy                           0.68        22\n",
      "   macro avg       0.83      0.56      0.51        22\n",
      "weighted avg       0.79      0.68      0.59        22\n",
      "\n"
     ]
    }
   ],
   "source": [
    "print(confusion_matrix(y_test,y_pred))\n",
    "print(classification_report(y_test,y_pred))"
   ]
  },
  {
   "cell_type": "code",
   "execution_count": 139,
   "metadata": {},
   "outputs": [],
   "source": [
    "dic1 = {}\n",
    "dic1[\"f1\"] = round(f1_score(y_test, y_pred),2)\n",
    "dic1[\"acc\"] = round(accuracy_score(y_test, y_pred),2)\n",
    "dic1[\"recall\"] = round(recall_score(y_test, y_pred),2)\n",
    "dic1[\"precision\"]= round(precision_score(y_test, y_pred),2)"
   ]
  },
  {
   "cell_type": "code",
   "execution_count": 140,
   "metadata": {},
   "outputs": [
    {
     "data": {
      "image/png": "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\n",
      "text/plain": [
       "<Figure size 432x288 with 1 Axes>"
      ]
     },
     "metadata": {
      "needs_background": "light"
     },
     "output_type": "display_data"
    }
   ],
   "source": [
    "# plot values: \n",
    "\n",
    "keys = list(dic1.keys())\n",
    "values = list(dic1.values())\n",
    "\n",
    "plt.bar(keys, values)\n",
    "plt.title(\"Evaluation scores baseline model 1\")\n",
    "for i in range(len(values)):\n",
    "    plt.annotate(str(values[i]), xy=(keys[i],values[i]), ha='center', va='bottom')"
   ]
  },
  {
   "cell_type": "code",
   "execution_count": 141,
   "metadata": {},
   "outputs": [],
   "source": [
    "cm1 = confusion_matrix(y_test,y_pred)\n"
   ]
  },
  {
   "cell_type": "code",
   "execution_count": 142,
   "metadata": {},
   "outputs": [
    {
     "data": {
      "image/png": "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\n",
      "text/plain": [
       "<Figure size 396x288 with 2 Axes>"
      ]
     },
     "metadata": {
      "needs_background": "light"
     },
     "output_type": "display_data"
    }
   ],
   "source": [
    "# plot the confusion matrix: \n",
    "\n",
    "cm1_df = pd.DataFrame(cm1,\n",
    "                     index = ['zero','one'], \n",
    "                     columns = ['zero','one'])\n",
    "\n",
    "plt.figure(figsize=(5.5,4))\n",
    "ax = sn.heatmap(cm1_df, annot= True, linewidths= .3)\n",
    "bottom, top = ax.get_ylim()\n",
    "ax.set_ylim(bottom + 0.5, top - 0.5)\n",
    "plt.title('Confusion Matrix Baseline Model 1')\n",
    "plt.ylabel('True label')\n",
    "plt.xlabel('Predicted label')\n",
    "plt.show()"
   ]
  },
  {
   "cell_type": "markdown",
   "metadata": {},
   "source": [
    "** Integrated MODEL 1.1 * linear SVM\n",
    "\n",
    "The first integrated model. This model is trained on the control variables , the Recurrence Rates and the dependent variables.\n"
   ]
  },
  {
   "cell_type": "code",
   "execution_count": 186,
   "metadata": {},
   "outputs": [],
   "source": [
    "##First create a X and Y dataset out of the final dataset: \n",
    "## X = control variables + Recurrence Rates, Y = investment decisions\n",
    "\n",
    "X_11 = final[['ex_startup', 'ex_nm', 'ex_np', 'ven_founded', 'years_ex', 'age', 'gender', 'ft_edu', 'ft_uni', 'native_en', \n",
    "              'RR_AU01_P', 'RR_AU02_P', 'RR_AU04_P', 'RR_AU05_P', 'RR_AU06_P', 'RR_AU07_P', 'RR_AU09_P',\n",
    "             'RR_AU10_P', 'RR_AU12_P', 'RR_AU14_P', 'RR_AU15_P', 'RR_AU17_P', 'RR_AU20_P', 'RR_AU23_P', 'RR_AU26_P',\n",
    "             'RR_AU45_P']]\n",
    "Y = final['probinv']"
   ]
  },
  {
   "cell_type": "code",
   "execution_count": null,
   "metadata": {},
   "outputs": [],
   "source": []
  },
  {
   "cell_type": "code",
   "execution_count": 187,
   "metadata": {},
   "outputs": [
    {
     "data": {
      "text/html": [
       "<div>\n",
       "<style scoped>\n",
       "    .dataframe tbody tr th:only-of-type {\n",
       "        vertical-align: middle;\n",
       "    }\n",
       "\n",
       "    .dataframe tbody tr th {\n",
       "        vertical-align: top;\n",
       "    }\n",
       "\n",
       "    .dataframe thead th {\n",
       "        text-align: right;\n",
       "    }\n",
       "</style>\n",
       "<table border=\"1\" class=\"dataframe\">\n",
       "  <thead>\n",
       "    <tr style=\"text-align: right;\">\n",
       "      <th></th>\n",
       "      <th>ex_startup</th>\n",
       "      <th>ex_nm</th>\n",
       "      <th>ex_np</th>\n",
       "      <th>ven_founded</th>\n",
       "      <th>years_ex</th>\n",
       "      <th>age</th>\n",
       "      <th>ft_edu</th>\n",
       "      <th>ft_uni</th>\n",
       "      <th>RR_AU01_P</th>\n",
       "      <th>RR_AU02_P</th>\n",
       "      <th>...</th>\n",
       "      <th>RR_AU15_P</th>\n",
       "      <th>RR_AU17_P</th>\n",
       "      <th>RR_AU20_P</th>\n",
       "      <th>RR_AU23_P</th>\n",
       "      <th>RR_AU26_P</th>\n",
       "      <th>RR_AU45_P</th>\n",
       "      <th>gender_1</th>\n",
       "      <th>gender_2</th>\n",
       "      <th>native_en_1</th>\n",
       "      <th>native_en_2</th>\n",
       "    </tr>\n",
       "  </thead>\n",
       "  <tbody>\n",
       "    <tr>\n",
       "      <td>0</td>\n",
       "      <td>15</td>\n",
       "      <td>13</td>\n",
       "      <td>15</td>\n",
       "      <td>2</td>\n",
       "      <td>1.0</td>\n",
       "      <td>31</td>\n",
       "      <td>21.0</td>\n",
       "      <td>8.5</td>\n",
       "      <td>45.389791</td>\n",
       "      <td>52.343047</td>\n",
       "      <td>...</td>\n",
       "      <td>80.412282</td>\n",
       "      <td>53.208293</td>\n",
       "      <td>71.808332</td>\n",
       "      <td>67.576765</td>\n",
       "      <td>68.134559</td>\n",
       "      <td>49.836104</td>\n",
       "      <td>0</td>\n",
       "      <td>1</td>\n",
       "      <td>0</td>\n",
       "      <td>1</td>\n",
       "    </tr>\n",
       "    <tr>\n",
       "      <td>1</td>\n",
       "      <td>15</td>\n",
       "      <td>13</td>\n",
       "      <td>15</td>\n",
       "      <td>2</td>\n",
       "      <td>1.0</td>\n",
       "      <td>31</td>\n",
       "      <td>21.0</td>\n",
       "      <td>8.5</td>\n",
       "      <td>80.585957</td>\n",
       "      <td>73.746137</td>\n",
       "      <td>...</td>\n",
       "      <td>75.892822</td>\n",
       "      <td>59.113632</td>\n",
       "      <td>74.225699</td>\n",
       "      <td>56.110307</td>\n",
       "      <td>77.732056</td>\n",
       "      <td>56.072756</td>\n",
       "      <td>0</td>\n",
       "      <td>1</td>\n",
       "      <td>0</td>\n",
       "      <td>1</td>\n",
       "    </tr>\n",
       "    <tr>\n",
       "      <td>2</td>\n",
       "      <td>15</td>\n",
       "      <td>13</td>\n",
       "      <td>15</td>\n",
       "      <td>2</td>\n",
       "      <td>1.0</td>\n",
       "      <td>31</td>\n",
       "      <td>21.0</td>\n",
       "      <td>8.5</td>\n",
       "      <td>75.380403</td>\n",
       "      <td>47.935850</td>\n",
       "      <td>...</td>\n",
       "      <td>86.324271</td>\n",
       "      <td>55.779386</td>\n",
       "      <td>75.119108</td>\n",
       "      <td>83.886564</td>\n",
       "      <td>56.975944</td>\n",
       "      <td>49.365539</td>\n",
       "      <td>0</td>\n",
       "      <td>1</td>\n",
       "      <td>0</td>\n",
       "      <td>1</td>\n",
       "    </tr>\n",
       "    <tr>\n",
       "      <td>3</td>\n",
       "      <td>13</td>\n",
       "      <td>13</td>\n",
       "      <td>13</td>\n",
       "      <td>1</td>\n",
       "      <td>0.5</td>\n",
       "      <td>20</td>\n",
       "      <td>16.0</td>\n",
       "      <td>2.0</td>\n",
       "      <td>54.342301</td>\n",
       "      <td>55.755009</td>\n",
       "      <td>...</td>\n",
       "      <td>60.268460</td>\n",
       "      <td>49.844591</td>\n",
       "      <td>92.067258</td>\n",
       "      <td>64.230681</td>\n",
       "      <td>57.071265</td>\n",
       "      <td>50.310819</td>\n",
       "      <td>0</td>\n",
       "      <td>1</td>\n",
       "      <td>0</td>\n",
       "      <td>1</td>\n",
       "    </tr>\n",
       "    <tr>\n",
       "      <td>4</td>\n",
       "      <td>13</td>\n",
       "      <td>13</td>\n",
       "      <td>13</td>\n",
       "      <td>1</td>\n",
       "      <td>0.5</td>\n",
       "      <td>20</td>\n",
       "      <td>16.0</td>\n",
       "      <td>2.0</td>\n",
       "      <td>83.433314</td>\n",
       "      <td>77.732112</td>\n",
       "      <td>...</td>\n",
       "      <td>63.295936</td>\n",
       "      <td>72.552662</td>\n",
       "      <td>61.312822</td>\n",
       "      <td>77.680595</td>\n",
       "      <td>69.870922</td>\n",
       "      <td>59.421866</td>\n",
       "      <td>0</td>\n",
       "      <td>1</td>\n",
       "      <td>0</td>\n",
       "      <td>1</td>\n",
       "    </tr>\n",
       "  </tbody>\n",
       "</table>\n",
       "<p>5 rows × 28 columns</p>\n",
       "</div>"
      ],
      "text/plain": [
       "   ex_startup  ex_nm  ex_np  ven_founded  years_ex  age  ft_edu  ft_uni  \\\n",
       "0          15     13     15            2       1.0   31    21.0     8.5   \n",
       "1          15     13     15            2       1.0   31    21.0     8.5   \n",
       "2          15     13     15            2       1.0   31    21.0     8.5   \n",
       "3          13     13     13            1       0.5   20    16.0     2.0   \n",
       "4          13     13     13            1       0.5   20    16.0     2.0   \n",
       "\n",
       "   RR_AU01_P  RR_AU02_P  ...  RR_AU15_P  RR_AU17_P  RR_AU20_P  RR_AU23_P  \\\n",
       "0  45.389791  52.343047  ...  80.412282  53.208293  71.808332  67.576765   \n",
       "1  80.585957  73.746137  ...  75.892822  59.113632  74.225699  56.110307   \n",
       "2  75.380403  47.935850  ...  86.324271  55.779386  75.119108  83.886564   \n",
       "3  54.342301  55.755009  ...  60.268460  49.844591  92.067258  64.230681   \n",
       "4  83.433314  77.732112  ...  63.295936  72.552662  61.312822  77.680595   \n",
       "\n",
       "   RR_AU26_P  RR_AU45_P  gender_1  gender_2  native_en_1  native_en_2  \n",
       "0  68.134559  49.836104         0         1            0            1  \n",
       "1  77.732056  56.072756         0         1            0            1  \n",
       "2  56.975944  49.365539         0         1            0            1  \n",
       "3  57.071265  50.310819         0         1            0            1  \n",
       "4  69.870922  59.421866         0         1            0            1  \n",
       "\n",
       "[5 rows x 28 columns]"
      ]
     },
     "execution_count": 187,
     "metadata": {},
     "output_type": "execute_result"
    }
   ],
   "source": [
    "## FIRST: aplly one-hot encoding for the categorical varibales: \n",
    "\n",
    "X_11 = pd.get_dummies(X_11, columns= ['gender', 'native_en'])\n",
    "X_11.head()"
   ]
  },
  {
   "cell_type": "code",
   "execution_count": 188,
   "metadata": {},
   "outputs": [],
   "source": [
    "## Split into training and test set; \n",
    "\n",
    "X_11 = np.asarray(X_11[['ex_startup', 'ex_nm', 'ex_np', 'ven_founded', 'years_ex', 'age', 'ft_edu', 'ft_uni',\n",
    "                     'RR_AU01_P', 'RR_AU02_P', 'RR_AU04_P', 'RR_AU05_P', 'RR_AU06_P', 'RR_AU07_P', 'RR_AU09_P',\n",
    "             'RR_AU10_P', 'RR_AU12_P', 'RR_AU14_P', 'RR_AU15_P', 'RR_AU17_P', 'RR_AU20_P', 'RR_AU23_P', 'RR_AU26_P',\n",
    "             'RR_AU45_P', 'gender_1', 'gender_2', 'native_en_1', 'native_en_2']])\n",
    "Y_11 = np.asarray(final[\"probinv\"])\n",
    "\n",
    "x_train, x_test, y_train, y_test = train_test_split(X_11, Y_11, test_size = 0.3, random_state = 0, stratify = Y_11)\n"
   ]
  },
  {
   "cell_type": "code",
   "execution_count": 189,
   "metadata": {},
   "outputs": [],
   "source": [
    "# Scale the independent variables: Deze lijkt het beste!!\n",
    "\n",
    "scaler = MinMaxScaler()\n",
    "x_train = scaler.fit_transform(x_train)\n",
    "x_test = scaler.transform(x_test)"
   ]
  },
  {
   "cell_type": "code",
   "execution_count": null,
   "metadata": {},
   "outputs": [],
   "source": [
    "# hyperparameter tuning\n",
    "\n",
    "#create list of possible values for C\n",
    "param_distributions = {\"C\": [0.001, 0.01, 0.1, 1,10]}\n",
    "\n",
    "#initiate the SVM classifier:\n",
    "svc = svm.SVC(kernel = 'linear', random_state = 0)\n",
    "\n",
    "#Initiate the model with each possible value for C:\n",
    "\n",
    "model11 = GridSearchCV(svc, param_distributions, cv=LeaveOneOut(), scoring = 'f1')\n",
    "\n",
    "# Fit each Model and pick the best one: \n",
    "\n",
    "model11.fit(x_train, y_train)\n",
    "\n"
   ]
  },
  {
   "cell_type": "code",
   "execution_count": 192,
   "metadata": {},
   "outputs": [
    {
     "name": "stdout",
     "output_type": "stream",
     "text": [
      "Best param is: {'C': 10, 'gamma': 1, 'kernel': 'sigmoid'}\n",
      "Best score is: 0.16\n"
     ]
    }
   ],
   "source": [
    "#print the best scores and best hyperparameters\n",
    "\n",
    "print(\"Best param is:\", model11.best_params_)\n",
    "\n",
    "\n",
    "print(\"Best score is:\", model11.best_score_)"
   ]
  },
  {
   "cell_type": "code",
   "execution_count": 148,
   "metadata": {},
   "outputs": [],
   "source": [
    "#Make the predictions: \n",
    "\n",
    "y_pred =  model1.predict(x_test)"
   ]
  },
  {
   "cell_type": "code",
   "execution_count": 149,
   "metadata": {},
   "outputs": [
    {
     "name": "stdout",
     "output_type": "stream",
     "text": [
      "[[10  4]\n",
      " [ 4  4]]\n",
      "              precision    recall  f1-score   support\n",
      "\n",
      "           0       0.71      0.71      0.71        14\n",
      "           1       0.50      0.50      0.50         8\n",
      "\n",
      "    accuracy                           0.64        22\n",
      "   macro avg       0.61      0.61      0.61        22\n",
      "weighted avg       0.64      0.64      0.64        22\n",
      "\n"
     ]
    }
   ],
   "source": [
    "\n",
    "print(confusion_matrix(y_test,y_pred))\n",
    "\n",
    "print(classification_report(y_test,y_pred))"
   ]
  },
  {
   "cell_type": "code",
   "execution_count": 150,
   "metadata": {},
   "outputs": [],
   "source": [
    "cm11 =confusion_matrix(y_test,y_pred)"
   ]
  },
  {
   "cell_type": "code",
   "execution_count": 151,
   "metadata": {},
   "outputs": [
    {
     "data": {
      "image/png": "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\n",
      "text/plain": [
       "<Figure size 396x288 with 2 Axes>"
      ]
     },
     "metadata": {
      "needs_background": "light"
     },
     "output_type": "display_data"
    }
   ],
   "source": [
    "# plot the confusion matrix: \n",
    "\n",
    "\n",
    "cm11_df = pd.DataFrame(cm11,\n",
    "                     index = ['zero','one'], \n",
    "                     columns = ['zero','one'])\n",
    "\n",
    "plt.figure(figsize=(5.5,4))\n",
    "ax = sn.heatmap(cm11_df, annot= True, linewidths= .3)\n",
    "bottom, top = ax.get_ylim()\n",
    "ax.set_ylim(bottom + 0.5, top - 0.5)\n",
    "plt.title('Confusion Matrix Integrated Model 1.1')\n",
    "plt.ylabel('True label')\n",
    "plt.xlabel('Predicted label')\n",
    "plt.show()"
   ]
  },
  {
   "cell_type": "code",
   "execution_count": 152,
   "metadata": {},
   "outputs": [],
   "source": [
    "dic11 = {}\n",
    "dic11[\"f1\"] = round(f1_score(y_test, y_pred),2)\n",
    "dic11[\"acc\"] = round(accuracy_score(y_test, y_pred),2)\n",
    "dic11[\"recall\"] = round(recall_score(y_test, y_pred),2)\n",
    "dic11[\"precision\"]= round(precision_score(y_test, y_pred),2)"
   ]
  },
  {
   "cell_type": "code",
   "execution_count": 153,
   "metadata": {},
   "outputs": [
    {
     "data": {
      "image/png": "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\n",
      "text/plain": [
       "<Figure size 432x288 with 1 Axes>"
      ]
     },
     "metadata": {
      "needs_background": "light"
     },
     "output_type": "display_data"
    }
   ],
   "source": [
    "# plot values: \n",
    "\n",
    "keys11 = list(dic11.keys())\n",
    "values11 = list(dic11.values())\n",
    "\n",
    "plt.bar(keys11, values11)\n",
    "plt.title(\"Evaluation scores Integrated model 1\")\n",
    "for i in range(len(values)):\n",
    "    plt.annotate(str(values[i]), xy=(keys11[i],values11[i]), ha='center', va='bottom')"
   ]
  },
  {
   "cell_type": "markdown",
   "metadata": {},
   "source": [
    "** BASELINE MODEL 2 * Kernel SVM\n",
    "\n",
    "The second basline model. This baseline model is trained on just control variables and the dependent variables.\n",
    "\n"
   ]
  },
  {
   "cell_type": "code",
   "execution_count": 199,
   "metadata": {},
   "outputs": [],
   "source": [
    "## First create a X and Y dataset out of the final dataset: \n",
    "## X = control variables Y = investment decisions\n",
    "\n",
    "X = final[['ex_startup', 'ex_nm', 'ex_np', 'ven_founded', 'years_ex', 'age', 'gender', 'ft_edu', 'ft_uni', 'native_en']]\n",
    "Y = final['probinv']"
   ]
  },
  {
   "cell_type": "code",
   "execution_count": 200,
   "metadata": {},
   "outputs": [
    {
     "data": {
      "text/html": [
       "<div>\n",
       "<style scoped>\n",
       "    .dataframe tbody tr th:only-of-type {\n",
       "        vertical-align: middle;\n",
       "    }\n",
       "\n",
       "    .dataframe tbody tr th {\n",
       "        vertical-align: top;\n",
       "    }\n",
       "\n",
       "    .dataframe thead th {\n",
       "        text-align: right;\n",
       "    }\n",
       "</style>\n",
       "<table border=\"1\" class=\"dataframe\">\n",
       "  <thead>\n",
       "    <tr style=\"text-align: right;\">\n",
       "      <th></th>\n",
       "      <th>ex_startup</th>\n",
       "      <th>ex_nm</th>\n",
       "      <th>ex_np</th>\n",
       "      <th>ven_founded</th>\n",
       "      <th>years_ex</th>\n",
       "      <th>age</th>\n",
       "      <th>ft_edu</th>\n",
       "      <th>ft_uni</th>\n",
       "      <th>gender_1</th>\n",
       "      <th>gender_2</th>\n",
       "      <th>native_en_1</th>\n",
       "      <th>native_en_2</th>\n",
       "    </tr>\n",
       "  </thead>\n",
       "  <tbody>\n",
       "    <tr>\n",
       "      <td>0</td>\n",
       "      <td>15</td>\n",
       "      <td>13</td>\n",
       "      <td>15</td>\n",
       "      <td>2</td>\n",
       "      <td>1.0</td>\n",
       "      <td>31</td>\n",
       "      <td>21.0</td>\n",
       "      <td>8.5</td>\n",
       "      <td>0</td>\n",
       "      <td>1</td>\n",
       "      <td>0</td>\n",
       "      <td>1</td>\n",
       "    </tr>\n",
       "    <tr>\n",
       "      <td>1</td>\n",
       "      <td>15</td>\n",
       "      <td>13</td>\n",
       "      <td>15</td>\n",
       "      <td>2</td>\n",
       "      <td>1.0</td>\n",
       "      <td>31</td>\n",
       "      <td>21.0</td>\n",
       "      <td>8.5</td>\n",
       "      <td>0</td>\n",
       "      <td>1</td>\n",
       "      <td>0</td>\n",
       "      <td>1</td>\n",
       "    </tr>\n",
       "    <tr>\n",
       "      <td>2</td>\n",
       "      <td>15</td>\n",
       "      <td>13</td>\n",
       "      <td>15</td>\n",
       "      <td>2</td>\n",
       "      <td>1.0</td>\n",
       "      <td>31</td>\n",
       "      <td>21.0</td>\n",
       "      <td>8.5</td>\n",
       "      <td>0</td>\n",
       "      <td>1</td>\n",
       "      <td>0</td>\n",
       "      <td>1</td>\n",
       "    </tr>\n",
       "    <tr>\n",
       "      <td>3</td>\n",
       "      <td>13</td>\n",
       "      <td>13</td>\n",
       "      <td>13</td>\n",
       "      <td>1</td>\n",
       "      <td>0.5</td>\n",
       "      <td>20</td>\n",
       "      <td>16.0</td>\n",
       "      <td>2.0</td>\n",
       "      <td>0</td>\n",
       "      <td>1</td>\n",
       "      <td>0</td>\n",
       "      <td>1</td>\n",
       "    </tr>\n",
       "    <tr>\n",
       "      <td>4</td>\n",
       "      <td>13</td>\n",
       "      <td>13</td>\n",
       "      <td>13</td>\n",
       "      <td>1</td>\n",
       "      <td>0.5</td>\n",
       "      <td>20</td>\n",
       "      <td>16.0</td>\n",
       "      <td>2.0</td>\n",
       "      <td>0</td>\n",
       "      <td>1</td>\n",
       "      <td>0</td>\n",
       "      <td>1</td>\n",
       "    </tr>\n",
       "  </tbody>\n",
       "</table>\n",
       "</div>"
      ],
      "text/plain": [
       "   ex_startup  ex_nm  ex_np  ven_founded  years_ex  age  ft_edu  ft_uni  \\\n",
       "0          15     13     15            2       1.0   31    21.0     8.5   \n",
       "1          15     13     15            2       1.0   31    21.0     8.5   \n",
       "2          15     13     15            2       1.0   31    21.0     8.5   \n",
       "3          13     13     13            1       0.5   20    16.0     2.0   \n",
       "4          13     13     13            1       0.5   20    16.0     2.0   \n",
       "\n",
       "   gender_1  gender_2  native_en_1  native_en_2  \n",
       "0         0         1            0            1  \n",
       "1         0         1            0            1  \n",
       "2         0         1            0            1  \n",
       "3         0         1            0            1  \n",
       "4         0         1            0            1  "
      ]
     },
     "execution_count": 200,
     "metadata": {},
     "output_type": "execute_result"
    }
   ],
   "source": [
    "\n",
    "X_2 = pd.get_dummies(X, columns= ['gender', 'native_en'])\n",
    "X_2.head()"
   ]
  },
  {
   "cell_type": "code",
   "execution_count": 201,
   "metadata": {},
   "outputs": [],
   "source": [
    "## Split into training and test set; \n",
    "\n",
    "X_2 = np.asarray(X_2[['ex_startup', 'ex_nm', 'ex_np', 'ven_founded', 'years_ex', 'age', 'ft_edu', 'ft_uni', 'gender_1', 'gender_2', 'native_en_1', 'native_en_2']])\n",
    "Y_2 = np.asarray(final[\"probinv\"])\n",
    "\n",
    "x_train, x_test, y_train, y_test = train_test_split(X_2, Y_2, test_size = 0.3, random_state = 0, stratify= Y_2)\n"
   ]
  },
  {
   "cell_type": "code",
   "execution_count": 202,
   "metadata": {},
   "outputs": [],
   "source": [
    "# Scale the independent variables: Deze lijkt het beste!!\n",
    "\n",
    "scaler = MinMaxScaler()\n",
    "x_train = scaler.fit_transform(x_train)\n",
    "x_test = scaler.transform(x_test)"
   ]
  },
  {
   "cell_type": "code",
   "execution_count": null,
   "metadata": {},
   "outputs": [],
   "source": [
    "# hyperparameter tuning\n",
    "\n",
    "#create list of possible values for C\n",
    "param_distributions = {\"C\": [0.001, 0.01, 0.1, 1,10],\n",
    "                       \"kernel\": ['rbf', 'poly', 'sigmoid'],\n",
    "                      \"gamma\": [0.001,0.01,0.1,1,10]}\n",
    "\n",
    "#initiate the SVM classifier:\n",
    "svc = svm.SVC(random_state = 0)\n",
    "\n",
    "#Initiate the model with each possible value for C:\n",
    "\n",
    "model2 = GridSearchCV(svc, param_distributions, cv=LeaveOneOut(), scoring = 'f1')\n",
    "\n",
    "# Fit each Model and pick the best one: \n",
    "\n",
    "model2.fit(x_train, y_train)\n"
   ]
  },
  {
   "cell_type": "code",
   "execution_count": 204,
   "metadata": {},
   "outputs": [
    {
     "name": "stdout",
     "output_type": "stream",
     "text": [
      "Best param is: {'C': 10, 'gamma': 1, 'kernel': 'sigmoid'}\n",
      "Best score is: 0.16\n"
     ]
    }
   ],
   "source": [
    "# Print the best scores and best hyperparameters\n",
    "\n",
    "print(\"Best param is:\", model2.best_params_)\n",
    "\n",
    "print(\"Best score is:\", model2.best_score_)"
   ]
  },
  {
   "cell_type": "code",
   "execution_count": 160,
   "metadata": {},
   "outputs": [],
   "source": [
    "#Make the predictions: \n",
    "\n",
    "y_pred =  model1.predict(x_test)"
   ]
  },
  {
   "cell_type": "code",
   "execution_count": 161,
   "metadata": {},
   "outputs": [
    {
     "name": "stdout",
     "output_type": "stream",
     "text": [
      "[[12  2]\n",
      " [ 4  4]]\n",
      "              precision    recall  f1-score   support\n",
      "\n",
      "           0       0.75      0.86      0.80        14\n",
      "           1       0.67      0.50      0.57         8\n",
      "\n",
      "    accuracy                           0.73        22\n",
      "   macro avg       0.71      0.68      0.69        22\n",
      "weighted avg       0.72      0.73      0.72        22\n",
      "\n"
     ]
    }
   ],
   "source": [
    "print(confusion_matrix(y_test,y_pred))\n",
    "print(classification_report(y_test,y_pred))"
   ]
  },
  {
   "cell_type": "code",
   "execution_count": 162,
   "metadata": {},
   "outputs": [],
   "source": [
    "cm2 = confusion_matrix(y_test,y_pred)"
   ]
  },
  {
   "cell_type": "code",
   "execution_count": 163,
   "metadata": {},
   "outputs": [
    {
     "data": {
      "image/png": "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\n",
      "text/plain": [
       "<Figure size 396x288 with 2 Axes>"
      ]
     },
     "metadata": {
      "needs_background": "light"
     },
     "output_type": "display_data"
    }
   ],
   "source": [
    "# plot the confusion matrix: \n",
    "\n",
    "\n",
    "cm2_df = pd.DataFrame(cm2,\n",
    "                     index = ['zero','one'], \n",
    "                     columns = ['zero','one'])\n",
    "\n",
    "plt.figure(figsize=(5.5,4))\n",
    "ax = sn.heatmap(cm2_df, annot= True, linewidths= .3)\n",
    "bottom, top = ax.get_ylim()\n",
    "ax.set_ylim(bottom + 0.5, top - 0.5)\n",
    "plt.title('Confusion Matrix Baseline Model 2')\n",
    "plt.ylabel('True label')\n",
    "plt.xlabel('Predicted label')\n",
    "plt.show()"
   ]
  },
  {
   "cell_type": "code",
   "execution_count": 164,
   "metadata": {},
   "outputs": [],
   "source": [
    "dic2 = {}\n",
    "dic2[\"f1\"] = round(f1_score(y_test, y_pred),2)\n",
    "dic2[\"acc\"] = round(accuracy_score(y_test, y_pred),2)\n",
    "dic2[\"recall\"] = round(recall_score(y_test, y_pred),2)\n",
    "dic2[\"precision\"]= round(precision_score(y_test, y_pred),2)"
   ]
  },
  {
   "cell_type": "code",
   "execution_count": 165,
   "metadata": {},
   "outputs": [
    {
     "data": {
      "image/png": "iVBORw0KGgoAAAANSUhEUgAAAXQAAAEICAYAAABPgw/pAAAABHNCSVQICAgIfAhkiAAAAAlwSFlzAAALEgAACxIB0t1+/AAAADh0RVh0U29mdHdhcmUAbWF0cGxvdGxpYiB2ZXJzaW9uMy4xLjEsIGh0dHA6Ly9tYXRwbG90bGliLm9yZy8QZhcZAAAehElEQVR4nO3df5xWdZ338ddbfvqDFHGscEAwfiQYTTWorWuKmYjmqI+soNp0Ldm9b1nLdFOrm7ypXUy779qEMjXTrZURtXQywqxwNc0EFEEkZJYfOwOkmJhpKYGf/eOcgcPFNTNn4JofHN7Px+N6cH58r3N9zrku3nPO91zXOYoIzMxs77dfdxdgZmaV4UA3MysIB7qZWUE40M3MCsKBbmZWEA50M7OCcKAXgKQHJX26k5b9BUk3d8ayrXWShkkKSb3T8Z9JOr+76+oISSdLas7Z9mpJP+zsmorOgd6FJK2V9BdJr2Qes7q7rhbl/gNGxL9GRKf8sdhbSLpV0pb0/fqTpMWSTurKGiJiUkTc1pWv2VNIOl7SA5JelLRJ0p2S3trddfVEDvSud1ZEHJR5TOvugoqoZc+2gq6NiIOAg4HvAD+S1KvCr2HlDQRuBIYBRwJ/Ar7fnQX1VA70HkBSP0kvSTomM60q3Zs/XNJASfeleyeb0+HqVpa106FrmUP3v5e0It3TXC3pH9LpBwI/AwZnjh4Gl1lenaTlab0PSjo6M2+tpMslLZX0R0l3SOrfSp0jJP1n2u4FSXdk5o3N7JE9J+kLme30TUkb0sc3JfVL550sqVnSFZJ+T/ofXtIHJS1J631U0rjM61whaX26LVZKen9771VEvAHcDhwKvDldztsk/UrSH9J1+Q9Jh7T3OpL2k3SlpP9KnztX0qGtbK/t3WqSLpD0a0lfTz8PayRNyrQ9WNL3JG1MX/errf3xSd/fOyX9MK1vmaRRkq6S9LykJkmnZdoPltSQvjeNki7KzNtfydHMZknPAONLXmuwpLvTz/EaSZe0t73Tbf6ziLgzIl6OiD8Ds4AT8jx3X+NA7wEi4nXgR8CUzOSPAP8ZEc+TvE/fJ9k7GQr8heRDvTueBz4IvAn4e+Abkt4dEa8Ck4ANmaOHDdknShoFzAE+C1QB84CfSOpbUvfpwHBgHHBBK3V8Bfg5yd5XNXB9+hoDgF8A84HBwAjgl+lzvggcD9QA7wSOBb6UWeZbSIL2SGCqpHcDtwD/AAwCvgs0pH8YRgPTgPERMQCYCKxtZ9uRBuMngTXAcy2TgZlpvUcDQ4Cr0/Ztvc4lwDnASelzNwOz26shdRywEjgMuBb4niSl824DtpJsu3cBpwFtdZudBfyA5L14Erif5DN3BDCDZLu1mAM0p/WeB/xr5g/hl4G3pY+JwPY+f0n7AT8BnkqX+37gs5Im5lzfrPcBy3fjecUXEX500YPkP/IrwEuZx0XpvFOB1Zm2jwCfbGU5NcDmzPiDwKfT4auBH2bmDQMC6N3Ksu4BPpMOnww0l8zfvjzg/wBzM/P2A9YDJ2fW7xOZ+dcCN7Tyuv9OchhdXTJ9CvBkK8/5L+CMzPhEYG2m9i1A/8z87wBfKVnGSpIAHUHyx+1UoE8779utwGvp+/Va+vh4G+3PaVmHtl4HWAG8PzP+VuCvQO/S963kPb4AaMw874C07VtIjhpeB/Yv2aYLWqn1auCBzPhZJJ/RXun4gHTZh5D8odoGDMi0nwncmg6vBk7PzJva8nki+QP03yWvfRXw/XKf2za27TjgReDErvp/uzc9vIfe9c6JiEMyj5vS6b8C9pd0nKQjSUL7xwCSDpD0XUnrJL0MPAQc0tphdFskTZL0WHrI/BJwBsleXh6DgXUtI5F0PzSR7HG1+H1m+M/AQa0s6/Mke7aPp104F6bTh5AEd7uvnw4PzoxviojXMuNHApel3S0vpes7BBgcEY0kRxpXA89LqpeUXVapr0fEIcD+QC1wXUs3h5Jusfq0e+Nl4Iek27Sd1zkS+HGmthUkgfnmNuposX07R9INAcm2PhLoA2zMLPe7wOFtLOu5zPBfgBciYltmvGXZg4EXI+JPmfbr2PH+Dyb5PGTntTiSpDsv+158gXzrCiTddCTdgp+JiIfzPm9f4kDvIdJwnEuyN/Ux4L7Mf5zLgNHAcRHxJpJDTkgCsdSrJHtsLd7SMpD2N98NfB14cxpQ8zLLae/SmxtI/mO2LE8kAbm+vfUrFRG/j4iLImIwSZfIt9P/sE0kh+ztvj5J91O2W6i0/ibgX0r+gB4QEXPSGm6PiL9NlxnA13LUHRHxNMkR1Jnp5Jnp88el788nyLw3bbxOEzCppL7+EdHh7Vmyzq8Dh2WW+aaIGLsHy2yxATg07RZrMZQd7/9Gks9Ddl62rjUl6zogIs7I88LpTs4vSI64frD7q1BsDvSe5Xbgo8DH0+EWA0j2lF5KT5p9uY1lLAHeJ2mopINJDmtb9AX6AZuAreke5mmZ+c8Bg9LnlTMXOFPS+yX1IflD8zrwaN4VbCHpw9pxYnczSdBtA+4D3iLps2lf9wBJx6Xt5gBfUnLC+DBgOsnecGtuAv4xPeqRpAMlnZkuc7SkU9I/cq+RbN9tbSwrW/vbgb9lRz/uANKuNElHAP+cadvW69wA/EsaVi0nws/OU0NrImIjybmJ/yfpTUpOvL5NFfiaZUQ0kbzXMyX1V3KC+VPAf6RN5gJXKTmJXw38U+bpjwMvKzlBvL+kXpKOkbTTidNy0m36K2B2RNywp+tRZA70rvcT7fw99B+3zIiI35LsYQ8mObRs8U2SQ/0XgMdIThiWFREPAHcAS4HFJAHZMu9PJCfi5pKE6MeAhsz835GE5ur0sHinLoiIWEmy93l9WstZJF/D3NLRjUDyDYjfSnolreEzEbEmrfED6bJ/D6wCJqTP+SqwKF23ZcAT6bTWtsUi4CKSE8ibgUZ2nKTtB1yTrsfvSbokvtBGvZ9P369XSQLz++w4Wfh/gXcDfwR+SnKCu0Vbr/Nv6br/XNKfSN7b49hznyT54/0MyXrfRdI/XwlTSPr3N5B0CX45/cxBsh3WkZww/jnJiVYA0i6cs0i6EteQbI+bSb4G2p5PA0cBX87+36nI2hSMInyDCzOzIvAeuplZQTjQzcwKwoFuZlYQDnQzs4Ko9AWMcjvssMNi2LBh3fXyZmZ7pcWLF78QEVXl5nVboA8bNoxFixZ118ubme2VJK1rbZ67XKyi5s+fz+jRoxkxYgTXXHPNLvMvvfRSampqqKmpYdSoURxySHJRwnXr1vGe97yHmpoaxo4dyw03+PcjZh3Vbd9Dr62tDe+hF8u2bdsYNWoUDzzwANXV1YwfP545c+YwZsyYsu2vv/56nnzySW655Ra2bNlCRNCvXz9eeeUVjjnmGB599FEGD27r8ipm+x5JiyOittw876FbxTz++OOMGDGCo446ir59+zJ58mTuvffeVtvPmTOHKVOSKwb37duXfv36AfD666/zxhtvdEnNZkXiQLeKWb9+PUOG7Lg2U3V1NevXl7/O1Lp161izZg2nnHLK9mlNTU2MGzeOIUOGcMUVV3jv3KyDHOhWMeW673bcc2Fn9fX1nHfeefTqteMKwEOGDGHp0qU0NjZy22238dxzz5V9rpmV50C3iqmurqapacflsJubm1vdy66vr9/e3VJq8ODBjB07locf9iWvzTrCgW4VM378eFatWsWaNWvYsmUL9fX11NXV7dJu5cqVbN68mfe+973bpzU3N/OXvyT3Uti8eTOPPPIIo0eP7rLazYqg276HbsXTu3dvZs2axcSJE9m2bRsXXnghY8eOZfr06dTW1m4P9zlz5jB58uSdumNWrFjBZZddhiQigssvv5x3vOMd3bUqZnslf23RzGwv0tbXFr2Hvg8aduVPu7uEbrX2mjPbb2S2F3IfuplZQTjQzcwKwoFuZlYQDnQzs4LIFeiSTpe0UlKjpCvLzP+GpCXp41lJL1W+VDMza0u733KR1AuYDXwAaAYWSmqIiGda2kTEpZn2/wS8qxNqNTOzNuTZQz8WaIyI1RGxBagHzm6j/RRgTiWKMzOz/PIE+hFAU2a8OZ22C0lHAsOBX7Uyf6qkRZIWbdq0qaO1mpm1qb0brADMnTuXMWPGMHbsWD72sY8BsGDBgu03XqmpqaF///7cc889XVl6ReT5YVG5y+W19vPSycBdEbGt3MyIuBG4EZJfiuaq0Mwsh23btnHxxRfvdIOVurq6nW6wsmrVKmbOnMkjjzzCwIEDef755wGYMGECS5YsAeDFF19kxIgRnHbaad2yHnsizx56MzAkM14NbGil7WTc3WJm3SDPDVZuuukmLr74YgYOHAjA4Ycfvsty7rrrLiZNmsQBBxzQJXVXUp5AXwiMlDRcUl+S0G4obSRpNDAQ+E1lSzQza1+eG6w8++yzPPvss5xwwgkcf/zxzJ8/f5fltHVp556u3S6XiNgqaRpwP9ALuCUilkuaASyKiJZwnwLUR3dd7cvM9ml5brCydetWVq1axYMPPkhzczMnnngiTz/99PablW/cuJFly5YxceLELqm50nJdnCsi5gHzSqZNLxm/unJlmZl1TJ4brFRXV3P88cfTp08fhg8fzujRo1m1ahXjx48HkhOm5557Ln369OnS2ivFvxQ1s0LIc4OVc845hwULFgDwwgsv8Oyzz3LUUUdtn5+9cfneyIFuZoWQvcHK0UcfzUc+8pHtN1hpaEh6hidOnMigQYMYM2YMEyZM4LrrrmPQoEEArF27lqamJk466aTuXI094htc7IN8PXRfD932Xr7BhZn1KN6p6JydCne5mJkVhAPdzKwgHOhmZgXhQDczKwgHuplZQTjQzcwKwoFuZlYQDnQzs4JwoJuZFYQD3cysIBzoZmYF4UA3MysIB7qZWUE40M3MCsKBbmZWELkCXdLpklZKapR0ZSttPiLpGUnLJd1e2TLNzKw97d7gQlIvYDbwAaAZWCipISKeybQZCVwFnBARmyUd3lkFm5lZeXn20I8FGiNidURsAeqBs0vaXATMjojNABHxfGXLNDOz9uQJ9COApsx4czotaxQwStIjkh6TdHqlCuxq8+fPZ/To0YwYMYJrrrlml/m33norVVVV1NTUUFNTw8033wzAggULtk+rqamhf//+3HPPPV1dvpntw/LcU1RlppXeWbo3MBI4GagGHpZ0TES8tNOCpKnAVIChQ4d2uNjOtm3bNi6++GIeeOABqqurGT9+PHV1dYwZM2andh/96EeZNWvWTtMmTJjAkiVLAHjxxRcZMWIEp512WpfVbmaWZw+9GRiSGa8GNpRpc29E/DUi1gArSQJ+JxFxY0TURkRtVVXV7tbcaR5//HFGjBjBUUcdRd++fZk8eTL33ntvh5dz1113MWnSJA444IBOqNLMrLw8gb4QGClpuKS+wGSgoaTNPcAEAEmHkXTBrK5koV1h/fr1DBmy429XdXU169ev36Xd3Xffzbhx4zjvvPNoamraZX59fT1Tpkzp1FrNzEq1G+gRsRWYBtwPrADmRsRySTMk1aXN7gf+IOkZYAHwzxHxh84qurNElPYkgbRzj9NZZ53F2rVrWbp0Kaeeeirnn3/+TvM3btzIsmXLmDhxYqfWamZWKk8fOhExD5hXMm16ZjiAz6WPvVZ1dfVOe9zNzc0MHjx4pzaDBg3aPnzRRRdxxRVX7DR/7ty5nHvuufTp06dzizUzK+FfimaMHz+eVatWsWbNGrZs2UJ9fT11dXU7tdm4ceP24YaGBo4++uid5s+ZM8fdLWbWLXLtoe8revfuzaxZs5g4cSLbtm3jwgsvZOzYsUyfPp3a2lrq6ur41re+RUNDA7179+bQQw/l1ltv3f78tWvX0tTUxEknndR9K2Fm+yyV6zfuCrW1tbFo0aJuee193bArf9rdJXSrtdec2d0l7PP8Gdz9z6CkxRFRW27eXrmH7g+DA8nMduU+dDOzgnCgm5kVhAPdzKwgHOhmZgXhQDczKwgHuplZQTjQzcwKwoFuZlYQDnQzs4JwoJuZFYQD3ayH2t3729q+a6+8lotZ0e3J/W1t3+U9dLMeqFL3t7V9iwPdrAeq1P1tbd/iQDfrgSpxf1vb9zjQzXqgvPe37devH5Dc33bx4sVdWqP1PLkCXdLpklZKapR0ZZn5F0jaJGlJ+vh05Us123dU4v62tu9p91suknoBs4EPAM3AQkkNEfFMSdM7ImJaJ9Rots/Z0/vb2r4pz9cWjwUaI2I1gKR64GygNNDNrILOOOMMzjjjjJ2mzZgxY/vwzJkzmTlzZleXZT1YnkA/AsiePm8GjivT7kOS3gc8C1waEbuccpc0FZgKMHTo0I5Xa9YD7Ov3tAXf17anytOHrjLTSk/B/wQYFhHjgF8At5VbUETcGBG1EVFbVVXVsUrNzKxNeQK9GRiSGa8GNmQbRMQfIuL1dPQm4D2VKc/MzPLKE+gLgZGShkvqC0wGGrINJL01M1oHrKhciWZmlke7fegRsVXSNOB+oBdwS0QslzQDWBQRDcAlkuqArcCLwAWdWLOZmZWR6+JcETEPmFcybXpm+CrgqsqWZmZmHeFfipqZFYQD3cysIBzoZmYF4UA3MysIB7qZWUE40M3MCsKBbmZWEA50M7OCcKCbmRWEA93MrCAc6GZmBeFANzMrCAe6mVlBONDNzArCgW5mVhAOdDOzgnCgm5kVhAPdzKwgHOhmZgWRK9AlnS5ppaRGSVe20e48SSGptnIlmplZHu0GuqRewGxgEjAGmCJpTJl2A4BLgN9WukgzM2tfnj30Y4HGiFgdEVuAeuDsMu2+AlwLvFbB+szMLKc8gX4E0JQZb06nbSfpXcCQiLivrQVJmippkaRFmzZt6nCxZmbWujyBrjLTYvtMaT/gG8Bl7S0oIm6MiNqIqK2qqspfpZmZtStPoDcDQzLj1cCGzPgA4BjgQUlrgeOBBp8YNTPrWnkCfSEwUtJwSX2ByUBDy8yI+GNEHBYRwyJiGPAYUBcRizqlYjMzK6vdQI+IrcA04H5gBTA3IpZLmiGprrMLNDOzfHrnaRQR84B5JdOmt9L25D0vy8zMOsq/FDUzKwgHuplZQTjQzcwKwoFuZlYQDnQzs4JwoJuZFYQD3cysIBzoZmYF4UA3MysIB7qZWUE40M3MCsKBbmZWEA50M7OCcKCbmRWEA93MrCAc6GZmBeFANzMrCAe6mVlBONDNzArCgW5mVhC5Al3S6ZJWSmqUdGWZ+f8oaZmkJZJ+LWlM5Us1M7O2tBvoknoBs4FJwBhgSpnAvj0i3hERNcC1wP+veKVmZtamPHvoxwKNEbE6IrYA9cDZ2QYR8XJm9EAgKleimZnl0TtHmyOApsx4M3BcaSNJFwOfA/oCp5RbkKSpwFSAoUOHdrRWMzNrQ549dJWZtsseeETMjoi3AVcAXyq3oIi4MSJqI6K2qqqqY5WamVmb8gR6MzAkM14NbGijfT1wzp4UZWZmHZcn0BcCIyUNl9QXmAw0ZBtIGpkZPRNYVbkSzcwsj3b70CNiq6RpwP1AL+CWiFguaQawKCIagGmSTgX+CmwGzu/Mos3MbFd5TooSEfOAeSXTpmeGP1PhuszMrIP8S1Ezs4JwoJuZFYQD3cysIBzoZmYF4UA3MysIB7qZWUE40M3MCsKBbmZWEA50M7OCcKCbmRWEA93MrCAc6GZmBeFANzMrCAe6mVlBONDNzArCgW5mVhAOdDOzgnCgm5kVhAPdzKwgcgW6pNMlrZTUKOnKMvM/J+kZSUsl/VLSkZUv1czM2tJuoEvqBcwGJgFjgCmSxpQ0exKojYhxwF3AtZUu1MzM2pZnD/1YoDEiVkfEFqAeODvbICIWRMSf09HHgOrKlmlmZu3JE+hHAE2Z8eZ0Wms+Bfys3AxJUyUtkrRo06ZN+as0M7N25Ql0lZkWZRtKnwBqgevKzY+IGyOiNiJqq6qq8ldpZmbt6p2jTTMwJDNeDWwobSTpVOCLwEkR8XplyjMzs7zy7KEvBEZKGi6pLzAZaMg2kPQu4LtAXUQ8X/kyzcysPe0GekRsBaYB9wMrgLkRsVzSDEl1abPrgIOAOyUtkdTQyuLMzKyT5OlyISLmAfNKpk3PDJ9a4brMzKyD/EtRM7OCcKCbmRWEA93MrCAc6GZmBeFANzMrCAe6mVlBONDNzArCgW5mVhAOdDOzgnCgm5kVhAPdzKwgHOhmZgXhQDczKwgHuplZQTjQzcwKwoFuZlYQDnQzs4JwoJuZFYQD3cysIHIFuqTTJa2U1CjpyjLz3yfpCUlbJZ1X+TLNzKw97Qa6pF7AbGASMAaYImlMSbP/Bi4Abq90gWZmlk/vHG2OBRojYjWApHrgbOCZlgYRsTad90Yn1GhmZjnk6XI5AmjKjDen0zpM0lRJiyQt2rRp0+4swszMWpEn0FVmWuzOi0XEjRFRGxG1VVVVu7MIMzNrRZ5AbwaGZMargQ2dU46Zme2uPIG+EBgpabikvsBkoKFzyzIzs45qN9AjYiswDbgfWAHMjYjlkmZIqgOQNF5SM/Bh4LuSlndm0WZmtqs833IhIuYB80qmTc8MLyTpijEzs27iX4qamRWEA93MrCAc6GZmBeFANzMrCAe6mVlBONDNzArCgW5mVhAOdDOzgnCgm5kVhAPdzKwgHOhmZgXhQDczKwgHuplZQTjQzcwKwoFuZlYQDnQzs4JwoJuZFYQD3cysIBzoZmYF4UA3MyuIXIEu6XRJKyU1SrqyzPx+ku5I5/9W0rBKF2pmZm1rN9Al9QJmA5OAMcAUSWNKmn0K2BwRI4BvAF+rdKFmZta2PHvoxwKNEbE6IrYA9cDZJW3OBm5Lh+8C3i9JlSvTzMza0ztHmyOApsx4M3Bca20iYqukPwKDgBeyjSRNBaamo69IWrk7RfcAh1Gybl1Je//xj7ffnvM23DN78/Y7srUZeQK93J527EYbIuJG4MYcr9mjSVoUEbXdXcfeyttvz3kb7pmibr88XS7NwJDMeDWwobU2knoDBwMvVqJAMzPLJ0+gLwRGShouqS8wGWgoadMAnJ8Onwf8KiJ22UM3M7PO026XS9onPg24H+gF3BIRyyXNABZFRAPwPeAHkhpJ9swnd2bRPcBe323Uzbz99py34Z4p5PaTd6TNzIrBvxQ1MysIB7qZWUE40HOSdImkFZLulvQbSa9Lury76zIrR9IwSU+nwydLuq+7a+pJJD3azvx5kg7pqnoqJc/30C3xv0kuf/AqyRf7z+necqyI0l9YKyLe6O5a9haSekXEto48JyL+pp35Z+xZVd3De+g5SLoBOIrk65kfj4iFwF+7t6qeTdI9khZLWp7+QrjlIm9PSHpK0i/TaQdJ+r6kZZKWSvpQ91be9dK96RWSvg08AfxdehT4hKQ7JR2Uthsv6dF0+z0uaUD63IfTtk9IajOo9jbp+v1O0m3p5+MuSQdIWitpuqRfAx+W9DZJ89PP3MOS3p4+/82Sfpxus6dato+kV9J/3yrpIUlLJD0t6cR0+lpJh6XDn0vnPS3ps5m6Vki6Kf2M/1zS/t2ykbIiwo8cD2AtcFhm/Grg8u6uq6c+gEPTf/cHngbeTHJ5iOEl878GfDPzvIHdXXs3bKthwBvA8SQ/SX8IODCddwUwHegLrAbGp9PfRHKEfQDQP502kuSrxC3LfDodPhm4r7vXcw+2TQAnpOO3AJen/x8/n2n3S2BkOnwcyW9hAO4APpsO9wIOTodfSf+9DPhiZv6AdHht+l68B1gGHAgcBCwH3pXWtRWoSdvPBT7R3dvLXS7WWS6RdG46PITkGj4PRcQagIho+SXxqWR+txARm7u0yp5jXUQ8JumDJFc1fSS9vl1f4DfAaGBjJEeHRMTLAJIOBGZJqgG2AaO6o/hO1hQRj6TDPwQuSYfvgOQoD/gb4M7MNQH7pf+eAnwSIJJumT+WLHshcIukPsA9EbGkZP7fAj+OiFfT1/oRcCLJ0fqaTPvFJCHfrRzoVnGSTiYJ6vdGxJ8lPQg8RRJKuzSnzHV/9kGvpv8KeCAipmRnShpH+e10KfAc8E6SLtTXOrPIblK63i3jLdtsP+CliKjp8IIjHpL0PuBMkh9HXhcR/55p0tZVY1/PDG8jORrtVu5Dt85wMMn18f+c9mUeT7LHdJKk4QCSDk3b/hyY1vJESQO7utge5jHgBEkjANL+4lHA74DBksan0wdkrpu0MZKTqH9H0m1QNEMlvTcdngL8OjszPVpZI+nDkJxYlvTOdPYvgf+VTu8l6U3Z50o6Eng+Im4i+cX7u0te+yHgnPR9OBA4F3i4cqtWWQ70DpL0FknNwOeAL0lqLv2QGPOB3pKWAl8hCalNJN0uP5L0FOnhMvBVYGB6wukpYEJ3FNxTRMQm4AJgTrr9HgPeHsm9CD4KXJ9upweA/sC3gfMlPUbS3fJq2QXv3VaQrONS4FDgO2XafBz4VLptlrPjng2fASZIWkbSLTK25HknA0skPQl8CPi37MyIeAK4FXgc+C1wc0Q8WYF16hT+6b+Z9VhKbmd5X0Qc082l7BW8h25mVhDeQzczKwjvoZuZFYQD3cysIBzoZmYF4UA3MysIB7qZWUH8D6DypZ+9MgCEAAAAAElFTkSuQmCC\n",
      "text/plain": [
       "<Figure size 432x288 with 1 Axes>"
      ]
     },
     "metadata": {
      "needs_background": "light"
     },
     "output_type": "display_data"
    }
   ],
   "source": [
    "# plot values: \n",
    "\n",
    "keys2 = list(dic2.keys())\n",
    "values2 = list(dic2.values())\n",
    "\n",
    "plt.bar(keys2, values2)\n",
    "plt.title(\"Evaluation scores Baseline model 2\")\n",
    "for i in range(len(values2)):\n",
    "    plt.annotate(str(values2[i]), xy=(keys2[i],values2[i]), ha='center', va='bottom')"
   ]
  },
  {
   "cell_type": "markdown",
   "metadata": {},
   "source": [
    "** Integrated MODEL 2 * Kernel SVM\n",
    "\n",
    "The second integrated model. This integrated model is trained on control variables, recurrence rates and the dependent variables."
   ]
  },
  {
   "cell_type": "code",
   "execution_count": 205,
   "metadata": {},
   "outputs": [],
   "source": [
    "##First create a X and Y dataset out of the final dataset: \n",
    "## X = control variables + Recurrence Rates, Y = investment decisions\n",
    "\n",
    "X_21 = final[['ex_startup', 'ex_nm', 'ex_np', 'ven_founded', 'years_ex', 'age', 'gender', 'ft_edu', 'ft_uni', 'native_en', \n",
    "              'RR_AU01_P', 'RR_AU02_P', 'RR_AU04_P', 'RR_AU05_P', 'RR_AU06_P', 'RR_AU07_P', 'RR_AU09_P',\n",
    "             'RR_AU10_P', 'RR_AU12_P', 'RR_AU14_P', 'RR_AU15_P', 'RR_AU17_P', 'RR_AU20_P', 'RR_AU23_P', 'RR_AU26_P',\n",
    "             'RR_AU45_P']]\n",
    "Y = final['probinv']"
   ]
  },
  {
   "cell_type": "code",
   "execution_count": 206,
   "metadata": {},
   "outputs": [
    {
     "data": {
      "text/html": [
       "<div>\n",
       "<style scoped>\n",
       "    .dataframe tbody tr th:only-of-type {\n",
       "        vertical-align: middle;\n",
       "    }\n",
       "\n",
       "    .dataframe tbody tr th {\n",
       "        vertical-align: top;\n",
       "    }\n",
       "\n",
       "    .dataframe thead th {\n",
       "        text-align: right;\n",
       "    }\n",
       "</style>\n",
       "<table border=\"1\" class=\"dataframe\">\n",
       "  <thead>\n",
       "    <tr style=\"text-align: right;\">\n",
       "      <th></th>\n",
       "      <th>ex_startup</th>\n",
       "      <th>ex_nm</th>\n",
       "      <th>ex_np</th>\n",
       "      <th>ven_founded</th>\n",
       "      <th>years_ex</th>\n",
       "      <th>age</th>\n",
       "      <th>ft_edu</th>\n",
       "      <th>ft_uni</th>\n",
       "      <th>RR_AU01_P</th>\n",
       "      <th>RR_AU02_P</th>\n",
       "      <th>...</th>\n",
       "      <th>RR_AU15_P</th>\n",
       "      <th>RR_AU17_P</th>\n",
       "      <th>RR_AU20_P</th>\n",
       "      <th>RR_AU23_P</th>\n",
       "      <th>RR_AU26_P</th>\n",
       "      <th>RR_AU45_P</th>\n",
       "      <th>gender_1</th>\n",
       "      <th>gender_2</th>\n",
       "      <th>native_en_1</th>\n",
       "      <th>native_en_2</th>\n",
       "    </tr>\n",
       "  </thead>\n",
       "  <tbody>\n",
       "    <tr>\n",
       "      <td>0</td>\n",
       "      <td>15</td>\n",
       "      <td>13</td>\n",
       "      <td>15</td>\n",
       "      <td>2</td>\n",
       "      <td>1.0</td>\n",
       "      <td>31</td>\n",
       "      <td>21.0</td>\n",
       "      <td>8.5</td>\n",
       "      <td>45.389791</td>\n",
       "      <td>52.343047</td>\n",
       "      <td>...</td>\n",
       "      <td>80.412282</td>\n",
       "      <td>53.208293</td>\n",
       "      <td>71.808332</td>\n",
       "      <td>67.576765</td>\n",
       "      <td>68.134559</td>\n",
       "      <td>49.836104</td>\n",
       "      <td>0</td>\n",
       "      <td>1</td>\n",
       "      <td>0</td>\n",
       "      <td>1</td>\n",
       "    </tr>\n",
       "    <tr>\n",
       "      <td>1</td>\n",
       "      <td>15</td>\n",
       "      <td>13</td>\n",
       "      <td>15</td>\n",
       "      <td>2</td>\n",
       "      <td>1.0</td>\n",
       "      <td>31</td>\n",
       "      <td>21.0</td>\n",
       "      <td>8.5</td>\n",
       "      <td>80.585957</td>\n",
       "      <td>73.746137</td>\n",
       "      <td>...</td>\n",
       "      <td>75.892822</td>\n",
       "      <td>59.113632</td>\n",
       "      <td>74.225699</td>\n",
       "      <td>56.110307</td>\n",
       "      <td>77.732056</td>\n",
       "      <td>56.072756</td>\n",
       "      <td>0</td>\n",
       "      <td>1</td>\n",
       "      <td>0</td>\n",
       "      <td>1</td>\n",
       "    </tr>\n",
       "    <tr>\n",
       "      <td>2</td>\n",
       "      <td>15</td>\n",
       "      <td>13</td>\n",
       "      <td>15</td>\n",
       "      <td>2</td>\n",
       "      <td>1.0</td>\n",
       "      <td>31</td>\n",
       "      <td>21.0</td>\n",
       "      <td>8.5</td>\n",
       "      <td>75.380403</td>\n",
       "      <td>47.935850</td>\n",
       "      <td>...</td>\n",
       "      <td>86.324271</td>\n",
       "      <td>55.779386</td>\n",
       "      <td>75.119108</td>\n",
       "      <td>83.886564</td>\n",
       "      <td>56.975944</td>\n",
       "      <td>49.365539</td>\n",
       "      <td>0</td>\n",
       "      <td>1</td>\n",
       "      <td>0</td>\n",
       "      <td>1</td>\n",
       "    </tr>\n",
       "    <tr>\n",
       "      <td>3</td>\n",
       "      <td>13</td>\n",
       "      <td>13</td>\n",
       "      <td>13</td>\n",
       "      <td>1</td>\n",
       "      <td>0.5</td>\n",
       "      <td>20</td>\n",
       "      <td>16.0</td>\n",
       "      <td>2.0</td>\n",
       "      <td>54.342301</td>\n",
       "      <td>55.755009</td>\n",
       "      <td>...</td>\n",
       "      <td>60.268460</td>\n",
       "      <td>49.844591</td>\n",
       "      <td>92.067258</td>\n",
       "      <td>64.230681</td>\n",
       "      <td>57.071265</td>\n",
       "      <td>50.310819</td>\n",
       "      <td>0</td>\n",
       "      <td>1</td>\n",
       "      <td>0</td>\n",
       "      <td>1</td>\n",
       "    </tr>\n",
       "    <tr>\n",
       "      <td>4</td>\n",
       "      <td>13</td>\n",
       "      <td>13</td>\n",
       "      <td>13</td>\n",
       "      <td>1</td>\n",
       "      <td>0.5</td>\n",
       "      <td>20</td>\n",
       "      <td>16.0</td>\n",
       "      <td>2.0</td>\n",
       "      <td>83.433314</td>\n",
       "      <td>77.732112</td>\n",
       "      <td>...</td>\n",
       "      <td>63.295936</td>\n",
       "      <td>72.552662</td>\n",
       "      <td>61.312822</td>\n",
       "      <td>77.680595</td>\n",
       "      <td>69.870922</td>\n",
       "      <td>59.421866</td>\n",
       "      <td>0</td>\n",
       "      <td>1</td>\n",
       "      <td>0</td>\n",
       "      <td>1</td>\n",
       "    </tr>\n",
       "  </tbody>\n",
       "</table>\n",
       "<p>5 rows × 28 columns</p>\n",
       "</div>"
      ],
      "text/plain": [
       "   ex_startup  ex_nm  ex_np  ven_founded  years_ex  age  ft_edu  ft_uni  \\\n",
       "0          15     13     15            2       1.0   31    21.0     8.5   \n",
       "1          15     13     15            2       1.0   31    21.0     8.5   \n",
       "2          15     13     15            2       1.0   31    21.0     8.5   \n",
       "3          13     13     13            1       0.5   20    16.0     2.0   \n",
       "4          13     13     13            1       0.5   20    16.0     2.0   \n",
       "\n",
       "   RR_AU01_P  RR_AU02_P  ...  RR_AU15_P  RR_AU17_P  RR_AU20_P  RR_AU23_P  \\\n",
       "0  45.389791  52.343047  ...  80.412282  53.208293  71.808332  67.576765   \n",
       "1  80.585957  73.746137  ...  75.892822  59.113632  74.225699  56.110307   \n",
       "2  75.380403  47.935850  ...  86.324271  55.779386  75.119108  83.886564   \n",
       "3  54.342301  55.755009  ...  60.268460  49.844591  92.067258  64.230681   \n",
       "4  83.433314  77.732112  ...  63.295936  72.552662  61.312822  77.680595   \n",
       "\n",
       "   RR_AU26_P  RR_AU45_P  gender_1  gender_2  native_en_1  native_en_2  \n",
       "0  68.134559  49.836104         0         1            0            1  \n",
       "1  77.732056  56.072756         0         1            0            1  \n",
       "2  56.975944  49.365539         0         1            0            1  \n",
       "3  57.071265  50.310819         0         1            0            1  \n",
       "4  69.870922  59.421866         0         1            0            1  \n",
       "\n",
       "[5 rows x 28 columns]"
      ]
     },
     "execution_count": 206,
     "metadata": {},
     "output_type": "execute_result"
    }
   ],
   "source": [
    "## FIRST: aplly one-hot encoding for the categorical varibales: \n",
    "\n",
    "X_21 = pd.get_dummies(X_21, columns= ['gender', 'native_en'])\n",
    "X_21.head()"
   ]
  },
  {
   "cell_type": "code",
   "execution_count": 207,
   "metadata": {},
   "outputs": [],
   "source": [
    "## Split into training and test set; \n",
    "\n",
    "X_21 = np.asarray(X_21[['ex_startup', 'ex_nm', 'ex_np', 'ven_founded', 'years_ex', 'age', 'ft_edu', 'ft_uni',\n",
    "                     'RR_AU01_P', 'RR_AU02_P', 'RR_AU04_P', 'RR_AU05_P', 'RR_AU06_P', 'RR_AU07_P', 'RR_AU09_P',\n",
    "             'RR_AU10_P', 'RR_AU12_P', 'RR_AU14_P', 'RR_AU15_P', 'RR_AU17_P', 'RR_AU20_P', 'RR_AU23_P', 'RR_AU26_P',\n",
    "             'RR_AU45_P', 'gender_1', 'gender_2', 'native_en_1', 'native_en_2']])\n",
    "Y_21 = np.asarray(final[\"probinv\"])\n",
    "\n",
    "x_train, x_test, y_train, y_test = train_test_split(X_21, Y_21, test_size = 0.3, random_state = 0, stratify = Y_21)\n"
   ]
  },
  {
   "cell_type": "code",
   "execution_count": 208,
   "metadata": {},
   "outputs": [],
   "source": [
    "# Scale the independent variables: Deze lijkt het beste!!\n",
    "\n",
    "scaler = MinMaxScaler()\n",
    "x_train = scaler.fit_transform(x_train)\n",
    "x_test = scaler.transform(x_test)"
   ]
  },
  {
   "cell_type": "code",
   "execution_count": null,
   "metadata": {},
   "outputs": [],
   "source": [
    "# hyperparameter tuning\n",
    "\n",
    "#create list of possible values for C\n",
    "param_distributions = {\"C\": [0.001, 0.01, 0.1, 1,10],\n",
    "                       \"kernel\": ['rbf', 'poly', 'sigmoid'],\n",
    "                      \"gamma\": [0.001,0.01,0.1,1,10]}\n",
    "\n",
    "#initiate the SVM classifier:\n",
    "svc = svm.SVC(random_state = 0)\n",
    "\n",
    "#Initiate the model with each possible value for C:\n",
    "\n",
    "model21 = GridSearchCV(svc, param_distributions, cv=LeaveOneOut(), scoring = 'f1')\n",
    "\n",
    "# Fit each Model and pick the best one: \n",
    "\n",
    "model21.fit(x_train, y_train)\n",
    "\n"
   ]
  },
  {
   "cell_type": "code",
   "execution_count": 210,
   "metadata": {},
   "outputs": [
    {
     "name": "stdout",
     "output_type": "stream",
     "text": [
      "Best param is: {'C': 0.01, 'gamma': 1, 'kernel': 'poly'}\n",
      "Best score is: 0.06\n"
     ]
    }
   ],
   "source": [
    "# Print the best scores and hyperparameters\n",
    "print(\"Best param is:\", model21.best_params_)\n",
    "\n",
    "print(\"Best score is:\", model21.best_score_)"
   ]
  },
  {
   "cell_type": "code",
   "execution_count": 175,
   "metadata": {},
   "outputs": [],
   "source": [
    "#Make the predictions: \n",
    "\n",
    "y_pred =  model21.predict(x_test)"
   ]
  },
  {
   "cell_type": "code",
   "execution_count": 176,
   "metadata": {},
   "outputs": [
    {
     "name": "stdout",
     "output_type": "stream",
     "text": [
      "[[11  3]\n",
      " [ 7  1]]\n",
      "              precision    recall  f1-score   support\n",
      "\n",
      "           0       0.61      0.79      0.69        14\n",
      "           1       0.25      0.12      0.17         8\n",
      "\n",
      "    accuracy                           0.55        22\n",
      "   macro avg       0.43      0.46      0.43        22\n",
      "weighted avg       0.48      0.55      0.50        22\n",
      "\n"
     ]
    }
   ],
   "source": [
    "print(confusion_matrix(y_test,y_pred))\n",
    "print(classification_report(y_test,y_pred))"
   ]
  },
  {
   "cell_type": "code",
   "execution_count": 177,
   "metadata": {},
   "outputs": [],
   "source": [
    "cm21= confusion_matrix(y_test,y_pred)"
   ]
  },
  {
   "cell_type": "code",
   "execution_count": 178,
   "metadata": {},
   "outputs": [
    {
     "data": {
      "image/png": "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\n",
      "text/plain": [
       "<Figure size 396x288 with 2 Axes>"
      ]
     },
     "metadata": {
      "needs_background": "light"
     },
     "output_type": "display_data"
    }
   ],
   "source": [
    "# plot the confusion matrix: \n",
    "\n",
    "\n",
    "cm21_df = pd.DataFrame(cm21,\n",
    "                     index = ['zero','one'], \n",
    "                     columns = ['zero','one'])\n",
    "\n",
    "plt.figure(figsize=(5.5,4))\n",
    "ax = sn.heatmap(cm21_df, annot= True, linewidths= .3)\n",
    "bottom, top = ax.get_ylim()\n",
    "ax.set_ylim(bottom + 0.5, top - 0.5)\n",
    "plt.title('Confusion Matrix Integrated Model 2.1')\n",
    "plt.ylabel('True label')\n",
    "plt.xlabel('Predicted label')\n",
    "plt.show()"
   ]
  },
  {
   "cell_type": "code",
   "execution_count": 179,
   "metadata": {},
   "outputs": [],
   "source": [
    "dic21 = {}\n",
    "dic21[\"f1\"] = round(f1_score(y_test, y_pred),2)\n",
    "dic21[\"acc\"] = round(accuracy_score(y_test, y_pred),2)\n",
    "dic21[\"recall\"] = round(recall_score(y_test, y_pred),2)\n",
    "dic21[\"precision\"]= round(precision_score(y_test, y_pred),2)"
   ]
  },
  {
   "cell_type": "code",
   "execution_count": 180,
   "metadata": {},
   "outputs": [
    {
     "data": {
      "image/png": "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\n",
      "text/plain": [
       "<Figure size 432x288 with 1 Axes>"
      ]
     },
     "metadata": {
      "needs_background": "light"
     },
     "output_type": "display_data"
    }
   ],
   "source": [
    "# plot values: \n",
    "\n",
    "keys21 = list(dic21.keys())\n",
    "values21 = list(dic21.values())\n",
    "\n",
    "plt.bar(keys21, values21)\n",
    "plt.title(\"Evaluation scores Integrated Model 2\")\n",
    "for i in range(len(values21)):\n",
    "    plt.annotate(str(values21[i]), xy=(keys21[i],values21[i]), ha='center', va='bottom')"
   ]
  },
  {
   "cell_type": "code",
   "execution_count": 266,
   "metadata": {
    "collapsed": true
   },
   "outputs": [],
   "source": [
    "## Create a plot with two models of an algorithm cobined: \n"
   ]
  },
  {
   "cell_type": "code",
   "execution_count": 181,
   "metadata": {},
   "outputs": [
    {
     "data": {
      "image/png": "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\n",
      "text/plain": [
       "<Figure size 432x288 with 1 Axes>"
      ]
     },
     "metadata": {
      "needs_background": "light"
     },
     "output_type": "display_data"
    }
   ],
   "source": [
    "\n",
    " \n",
    "# set width of bar\n",
    "barWidth = 0.35\n",
    " \n",
    "# set height of bar\n",
    "bars3 = list(dic1.values())\n",
    "bars4 = list(dic11.values())\n",
    " \n",
    "# Set position of bar on X axis\n",
    "r1 = np.arange(len(bars3))\n",
    "r2 = [x + barWidth for x in r1]\n",
    "labels = ['F1', 'Acc', 'Recall', 'Precision']\n",
    "\n",
    "# Make the plot\n",
    "fig, ax = plt.subplots()\n",
    "rects1 = ax.bar(r1, bars3, color='#07bdfa', width=barWidth, edgecolor='white', label='Baseline Model 1')\n",
    "rects2 = ax.bar(r2, bars4, color='#3807fa', width=barWidth, edgecolor='white', label='Integrated Model 1.1')\n",
    " \n",
    "# Add xticks on the middle of the group bars\n",
    "ax.set_ylabel('scores')\n",
    "ax.set_title('Evaluation Scores Linear Support Vector Machine Models')\n",
    "ax.set_xticks((r1+r2)/2)\n",
    "ax.set_ylim([0,1])\n",
    "ax.set_xticklabels(labels)\n",
    "ax.legend()\n",
    " \n",
    "# Put values on top of bars: \n",
    "def autolabel(rects):\n",
    "    \"\"\"Attach a text label above each bar in *rects*, displaying its height.\"\"\"\n",
    "    for rect in rects:\n",
    "        height = rect.get_height()\n",
    "        ax.annotate('{}'.format(height),\n",
    "                    xy=(rect.get_x() + rect.get_width() / 2, height),\n",
    "                    xytext=(0, 3),  # 3 points vertical offset\n",
    "                    textcoords=\"offset points\",\n",
    "                    ha='center', va='bottom')\n",
    "\n",
    "autolabel(rects1)\n",
    "autolabel(rects2)\n",
    "\n",
    "fig.tight_layout()\n",
    "\n",
    "plt.show()\n"
   ]
  },
  {
   "cell_type": "code",
   "execution_count": 182,
   "metadata": {},
   "outputs": [
    {
     "data": {
      "image/png": "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\n",
      "text/plain": [
       "<Figure size 432x288 with 1 Axes>"
      ]
     },
     "metadata": {
      "needs_background": "light"
     },
     "output_type": "display_data"
    }
   ],
   "source": [
    "\n",
    "# set width of bar\n",
    "barWidth = 0.35\n",
    " \n",
    "# set height of bar\n",
    "bars3 = list(dic2.values())\n",
    "bars4 = list(dic21.values())\n",
    " \n",
    "# Set position of bar on X axis\n",
    "r1 = np.arange(len(bars3))\n",
    "r2 = [x + barWidth for x in r1]\n",
    "labels = ['F1', 'Acc', 'Recall', 'Precision']\n",
    "\n",
    "# Make the plot\n",
    "fig, ax = plt.subplots()\n",
    "rects1 = ax.bar(r1, bars3, color='#07bdfa', width=barWidth, edgecolor='white', label='Baseline Model 2')\n",
    "rects2 = ax.bar(r2, bars4, color='#3807fa', width=barWidth, edgecolor='white', label='Integrated Model 2.1')\n",
    " \n",
    "# Add xticks on the middle of the group bars\n",
    "ax.set_ylabel('scores')\n",
    "ax.set_title('Evaluation Scores Kernel Support Vector Machine Models')\n",
    "ax.set_xticks((r1+r2)/2)\n",
    "ax.set_xticklabels(labels)\n",
    "ax.legend()\n",
    "ax.legend\n",
    " \n",
    "# Put values on top of bars: \n",
    "def autolabel(rects):\n",
    "    \"\"\"Attach a text label above each bar in *rects*, displaying its height.\"\"\"\n",
    "    for rect in rects:\n",
    "        height = rect.get_height()\n",
    "        ax.annotate('{}'.format(height),\n",
    "                    xy=(rect.get_x() + rect.get_width() / 2, height),\n",
    "                    xytext=(0, 3),  # 3 points vertical offset\n",
    "                    textcoords=\"offset points\",\n",
    "                    ha='center', va='bottom')\n",
    "\n",
    "autolabel(rects1)\n",
    "autolabel(rects2)\n",
    "\n",
    "fig.tight_layout()\n",
    "\n",
    "plt.show()"
   ]
  }
 ],
 "metadata": {
  "kernelspec": {
   "display_name": "Python 3",
   "language": "python",
   "name": "python3"
  },
  "language_info": {
   "codemirror_mode": {
    "name": "ipython",
    "version": 3
   },
   "file_extension": ".py",
   "mimetype": "text/x-python",
   "name": "python",
   "nbconvert_exporter": "python",
   "pygments_lexer": "ipython3",
   "version": "3.7.4"
  }
 },
 "nbformat": 4,
 "nbformat_minor": 2
}
